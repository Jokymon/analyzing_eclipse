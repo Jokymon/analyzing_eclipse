{
 "cells": [
  {
   "cell_type": "markdown",
   "id": "1397f4d9",
   "metadata": {},
   "source": [
    "# Monte Carlo simulation"
   ]
  },
  {
   "cell_type": "code",
   "execution_count": null,
   "id": "4976e6fe",
   "metadata": {},
   "outputs": [],
   "source": [
    "import random"
   ]
  },
  {
   "cell_type": "code",
   "execution_count": null,
   "id": "46e4f9b6",
   "metadata": {},
   "outputs": [],
   "source": [
    "class State:\n",
    "    def __init__(self):\n",
    "        self.reset()\n",
    "        \n",
    "    def reset(self):\n",
    "        self.turn_of_player = \"a\"\n",
    "        self.hull_a = 1\n",
    "        self.hull_b = 3\n",
    "        \n",
    "    def _damage_by_a(self):\n",
    "        \"\"\"Calculate damage caused by player a\"\"\"\n",
    "        dmg = 2 if random.randint(1,6)>=5 else 0\n",
    "        dmg += 2 if random.randint(1,6)>=5 else 0\n",
    "        return dmg\n",
    "    \n",
    "    def _damage_by_b(self):\n",
    "        \"\"\"Calculate damage caused by player b\"\"\"\n",
    "        dmg = 4 if random.randint(1,6)>=6 else 0\n",
    "        return dmg\n",
    "    \n",
    "    def next_turn(self):\n",
    "        \"\"\"Perform the next game turn. Throw the dice and calculate the damage based on who's turn it currently is.\"\"\"\n",
    "        if self.turn_of_player == \"a\":\n",
    "            self.hull_b -= self._damage_by_a()\n",
    "            self.turn_of_player = \"b\"\n",
    "        else:\n",
    "            self.hull_a -= self._damage_by_b()\n",
    "            self.turn_of_player = \"a\"\n",
    "            \n",
    "    def winner(self):\n",
    "        \"\"\"Return who is the current winner. It is either 'a' or 'b' or if there is currently no winner returns None.\"\"\"\n",
    "        if self.hull_a > 0 and self.hull_b < 0:\n",
    "            return \"a\"\n",
    "        elif self.hull_a < 0 and self.hull_b > 0:\n",
    "            return \"b\"\n",
    "        elif self.hull_a < 0 and self.hull_b < 0:\n",
    "            raise ValueError(\"Somehow both players lost\")\n",
    "        else:\n",
    "            return None\n",
    "        \n",
    "state = State()"
   ]
  },
  {
   "cell_type": "markdown",
   "id": "068ef2d2",
   "metadata": {},
   "source": [
    "Store the amount of times player 'a' wins in this variable and initialize it to 0."
   ]
  },
  {
   "cell_type": "code",
   "execution_count": null,
   "id": "69cef840",
   "metadata": {},
   "outputs": [],
   "source": [
    "a_wins = 0"
   ]
  },
  {
   "cell_type": "markdown",
   "id": "ed592ed3",
   "metadata": {},
   "source": [
    "Now simulate multiple games. We store the amount of simulated games in the variable ``runs``"
   ]
  },
  {
   "cell_type": "code",
   "execution_count": null,
   "id": "455c7c4a",
   "metadata": {},
   "outputs": [],
   "source": [
    "runs = 100000"
   ]
  },
  {
   "cell_type": "markdown",
   "id": "8818e8f7",
   "metadata": {},
   "source": [
    "And there we go"
   ]
  },
  {
   "cell_type": "code",
   "execution_count": null,
   "id": "bf32396f",
   "metadata": {},
   "outputs": [],
   "source": [
    "for _ in range(runs):\n",
    "    state.reset()\n",
    "    winner = state.winner()\n",
    "    while winner is None:\n",
    "        state.next_turn()\n",
    "        winner = state.winner()\n",
    "    if winner==\"a\":\n",
    "        a_wins += 1\n",
    "print(f\"Chances for 'a' winning: {a_wins/runs:.3f}, for 'b' winning: {1-(a_wins/runs):.3f}\")"
   ]
  }
 ],
 "metadata": {
  "kernelspec": {
   "display_name": "Python 3 (ipykernel)",
   "language": "python",
   "name": "python3"
  },
  "language_info": {
   "codemirror_mode": {
    "name": "ipython",
    "version": 3
   },
   "file_extension": ".py",
   "mimetype": "text/x-python",
   "name": "python",
   "nbconvert_exporter": "python",
   "pygments_lexer": "ipython3",
   "version": "3.9.7"
  }
 },
 "nbformat": 4,
 "nbformat_minor": 5
}
